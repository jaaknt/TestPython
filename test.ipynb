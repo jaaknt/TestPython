{
 "cells": [
  {
   "cell_type": "code",
   "execution_count": 2,
   "id": "f6470b29",
   "metadata": {},
   "outputs": [],
   "source": [
    "import requests\n",
    "from bs4 import BeautifulSoup"
   ]
  },
  {
   "cell_type": "code",
   "execution_count": 3,
   "id": "9faac629",
   "metadata": {},
   "outputs": [],
   "source": [
    "response = requests.get(\"https://www.russell.com/indexes/equity/russell-3000-index/\")\n"
   ]
  },
  {
   "cell_type": "code",
   "execution_count": 4,
   "id": "710f6069",
   "metadata": {},
   "outputs": [],
   "source": [
    "soup = BeautifulSoup(response.content, 'html.parser')"
   ]
  },
  {
   "cell_type": "code",
   "execution_count": 6,
   "id": "d907d87e",
   "metadata": {},
   "outputs": [],
   "source": [
    "table = soup.find('table', {'id': 'index-components-table'})"
   ]
  },
  {
   "cell_type": "code",
   "execution_count": 7,
   "id": "cbe7d750",
   "metadata": {},
   "outputs": [
    {
     "ename": "AttributeError",
     "evalue": "'NoneType' object has no attribute 'find_all'",
     "output_type": "error",
     "traceback": [
      "\u001b[1;31m---------------------------------------------------------------------------\u001b[0m",
      "\u001b[1;31mAttributeError\u001b[0m                            Traceback (most recent call last)",
      "Cell \u001b[1;32mIn[7], line 2\u001b[0m\n\u001b[0;32m      1\u001b[0m companies \u001b[38;5;241m=\u001b[39m []\n\u001b[1;32m----> 2\u001b[0m \u001b[38;5;28;01mfor\u001b[39;00m row \u001b[38;5;129;01min\u001b[39;00m \u001b[43mtable\u001b[49m\u001b[38;5;241;43m.\u001b[39;49m\u001b[43mfind_all\u001b[49m(\u001b[38;5;124m'\u001b[39m\u001b[38;5;124mtr\u001b[39m\u001b[38;5;124m'\u001b[39m)[\u001b[38;5;241m1\u001b[39m:]:\n\u001b[0;32m      3\u001b[0m     cells \u001b[38;5;241m=\u001b[39m row\u001b[38;5;241m.\u001b[39mfind_all(\u001b[38;5;124m'\u001b[39m\u001b[38;5;124mtd\u001b[39m\u001b[38;5;124m'\u001b[39m)\n\u001b[0;32m      4\u001b[0m     ticker \u001b[38;5;241m=\u001b[39m cells[\u001b[38;5;241m0\u001b[39m]\u001b[38;5;241m.\u001b[39mtext\n",
      "\u001b[1;31mAttributeError\u001b[0m: 'NoneType' object has no attribute 'find_all'"
     ]
    }
   ],
   "source": [
    "companies = []\n",
    "for row in table.find_all('tr')[1:]:\n",
    "    cells = row.find_all('td')\n",
    "    ticker = cells[0].text\n",
    "    name = cells[1].text\n",
    "    companies.append((ticker, name))"
   ]
  },
  {
   "cell_type": "code",
   "execution_count": 9,
   "id": "f60e6bd6",
   "metadata": {},
   "outputs": [
    {
     "name": "stdout",
     "output_type": "stream",
     "text": [
      "None\n"
     ]
    }
   ],
   "source": [
    "print(table)"
   ]
  },
  {
   "cell_type": "code",
   "execution_count": 10,
   "id": "eeb25113",
   "metadata": {},
   "outputs": [
    {
     "name": "stdout",
     "output_type": "stream",
     "text": [
      "<!DOCTYPE html>\n",
      "<html lang=\"en\"><head>\n",
      "<meta charset=\"utf-8\"/>\n",
      "<title>FTSE Russell</title>\n",
      "<base href=\"/\"/>\n",
      "<meta content=\"initial-scale=1, maximum-scale=5, minimum-scale=1, user-scalable=yes, width=device-width\" name=\"viewport\"/>\n",
      "<link href=\"assets/icons/favicon.ico\" rel=\"shortcut icon\" type=\"image/ico\"/>\n",
      "<link href=\"assets/icons/favicon.ico\" rel=\"icon\" sizes=\"16x16 32x32\" type=\"image/ico\"/>\n",
      "<meta content=\"FTSE Russell\" name=\"application-name\"/>\n",
      "<meta content=\"#FFFFFF\" name=\"msapplication-TileColor\"/>\n",
      "<meta content=\"assets/icons/mstile-144x144.png\" name=\"msapplication-TileImage\"/>\n",
      "<meta content=\"assets/icons/mstile-70x70.png\" name=\"msapplication-square70x70logo\"/>\n",
      "<meta content=\"assets/icons/mstile-150x150.png\" name=\"msapplication-square150x150logo\"/>\n",
      "<meta content=\"assets/icons/mstile-310x150.png\" name=\"msapplication-wide310x150logo\"/>\n",
      "<meta content=\"assets/icons/mstile-310x310.png\" name=\"msapplication-square310x310logo\"/>\n",
      "<meta content=\"Browse through our Press Releases to get up-to-date with all the latest news, updates, and product launches from FTSE Russell.\" name=\"description\"/>\n",
      "<link href=\"assets/icons/apple-touch-icon-57x57.png\" rel=\"apple-touch-icon-precomposed\" sizes=\"57x57\"/>\n",
      "<link href=\"assets/icons/apple-touch-icon-114x114.png\" rel=\"apple-touch-icon-precomposed\" sizes=\"114x114\"/>\n",
      "<link href=\"assets/icons/apple-touch-icon-72x72.png\" rel=\"apple-touch-icon-precomposed\" sizes=\"72x72\"/>\n",
      "<link href=\"assets/icons/apple-touch-icon-144x144.png\" rel=\"apple-touch-icon-precomposed\" sizes=\"144x144\"/>\n",
      "<link href=\"assets/icons/apple-touch-icon-60x60.png\" rel=\"apple-touch-icon-precomposed\" sizes=\"60x60\"/>\n",
      "<link href=\"assets/icons/apple-touch-icon-120x120.png\" rel=\"apple-touch-icon-precomposed\" sizes=\"120x120\"/>\n",
      "<link href=\"assets/icons/apple-touch-icon-76x76.png\" rel=\"apple-touch-icon-precomposed\" sizes=\"76x76\"/>\n",
      "<link href=\"assets/icons/apple-touch-icon-152x152.png\" rel=\"apple-touch-icon-precomposed\" sizes=\"152x152\"/>\n",
      "<link href=\"assets/icons/favicon-196x196.png\" rel=\"icon\" sizes=\"196x196\" type=\"image/png\"/>\n",
      "<link href=\"assets/icons/favicon-96x96.png\" rel=\"icon\" sizes=\"96x96\" type=\"image/png\"/>\n",
      "<link href=\"assets/icons/favicon-32x32.png\" rel=\"icon\" sizes=\"32x32\" type=\"image/png\"/>\n",
      "<link href=\"assets/icons/favicon-16x16.png\" rel=\"icon\" sizes=\"16x16\" type=\"image/png\"/>\n",
      "<link href=\"assets/icons/favicon-128.png\" rel=\"icon\" sizes=\"128x128\" type=\"image/png\"/>\n",
      "<!-- <script src=\"assets/js/ia.js\"></script> -->\n",
      "<script>\n",
      "    var fileref = document.createElement('script');\n",
      "    fileref.setAttribute('type', 'text/javascript');\n",
      "    if (window.location.hostname == 'dev.ftserussell.com' || window.location.hostname == 'localhost') {\n",
      "      fileref.setAttribute('src', '//assets.adobedtm.com/feae4c3fa968/5011df2528f3/launch-5f718699974a-development.min.js');\n",
      "    } else if (window.location.hostname == 'www.ftserussell.com') {\n",
      "      fileref.setAttribute('src', '//assets.adobedtm.com/feae4c3fa968/5011df2528f3/launch-182ed19959c0.min.js');\n",
      "    } else {\n",
      "      fileref.setAttribute('src', '//assets.adobedtm.com/feae4c3fa968/5011df2528f3/launch-583c79c94dae-staging.min.js');\n",
      "    }\n",
      "    document.getElementsByTagName('head')[0].appendChild(fileref);\n",
      "  </script>\n",
      "<script type=\"text/javascript\"></script>\n",
      "<!-- <script src=\"https://fast.wistia.com/assets/external/E-v1.js\" async></script> -->\n",
      "<link href=\"styles.3e7821c1febe16764d9c.css\" rel=\"stylesheet\"/><style ng-transition=\"ftseangular\">.loading-wrapper[_ngcontent-sc17]{background:#fff;position:fixed;width:100%;height:100%;z-index:10000;top:0;left:0}</style><link href=\"https://www.ftserussell.com/\" id=\"tagRef\" rel=\"canonical\"/><meta content=\"https://www.ftserussell.com/\" property=\"canonical_url\"/><meta content=\"https://www.ftserussell.com/\" property=\"og:url\"/><meta content=\"https://www.ftserussell.com/\" property=\"twitter:page_url\"/><meta content=\"https://www.ftserussell.com/\" property=\"shortlink\"/></head>\n",
      "<body>\n",
      "<app-root _nghost-sc17=\"\" ng-version=\"11.2.12\"><router-outlet _ngcontent-sc17=\"\"></router-outlet><app-root _nghost-sc17=\"\"><router-outlet _ngcontent-sc17=\"\"></router-outlet><app-standard-root><div></div><div class=\"app-wrapper\"><div class=\"app-header\"><app-header><header class=\"header\" id=\"header\"><!-- --><div class=\"header__inner grid\"><div class=\"nav-toggle col col-align-middle\" tabindex=\"0\"><div class=\"nav-toggle--wrapper\"><div class=\"nav-toggle__title close\">CLOSE</div><div class=\"nav-toggle__spans\"><span></span><span></span><span></span></div></div></div><div class=\"header__logo col text--center col-1\"><a href=\"/\" title=\"← Back to the homepage\"><picture><source media=\"(min-width: 1350px)\" srcset=\"../../../assets/images/ftse-russell-branded-logo.svg\"/><img alt=\"FTSE Russell\" height=\"90\" src=\"../../../assets/images/ftse-russell-branded-logo.svg\" width=\"90\"/></picture></a></div><div class=\"header__right col col-10\"><div class=\"header__top\"><div class=\"top-menu\"><nav aria-label=\"Top Menu\" class=\"nav navbar__top-menu text--right\"><h2 class=\"visuallyhidden\">Top Menu</h2><ul aria-hidden=\"false\" class=\"navbar__top-menu__links\" role=\"menubar\"><!-- --></ul></nav><div class=\"header__top\"><nav class=\"language-switcher\" role=\"navigation\"><h2 class=\"visuallyhidden\">Language</h2><ul aria-hidden=\"false\" class=\"dropdown-menu\" role=\"listbox\"><li class=\"lang active\" role=\"menuitem\"><a href=\"\" title=\"Active Language English\">English<i class=\"icon icon-caret\"><svg class=\"icon\"><use xlink:href=\"/assets/sprites/icons.svg#ico-caret\"></use></svg></i></a></li><!-- --><!-- --><!-- --><!-- --><!-- --><!-- --><!-- --></ul><div class=\"lang-switcher__popup\"><ul class=\"languages-list\"><li class=\"lang active\"><div><i class=\"icon icon-check\"><svg class=\"icon\"><use xlink:href=\"/assets/sprites/icons.svg#ico-check\"></use></svg></i>English </div><!-- --><!-- --><!-- --><!-- --></li><li class=\"lang\"><!-- --><a href=\"\" title=\"Language Japanese\">日本語</a><!-- --><!-- --></li><li class=\"lang\"><!-- --><!-- --><a href=\"\" title=\"Language Chinese\">简体中文</a><!-- --></li><!-- --></ul></div></nav></div></div></div><div class=\"header__bottom grid\"><div class=\"header__menu col col-10 col-align-middle\"><div class=\"main-menu\"><nav aria-label=\"Main Menu\" class=\"navbar main-menu__nav\"><h2 class=\"visuallyhidden\">Main Menu</h2><ul aria-hidden=\"false\" class=\"nav main-menu grid\" role=\"navigation\"><!-- --><!-- --></ul></nav></div></div><div class=\"header__search col icon icon-search col-align-middle text--right\"><a title=\"Search\"><svg class=\"icon\"><use xlink:href=\"/assets/sprites/icons.svg#ico-search\"></use></svg></a></div><div class=\"language-switcher__mobile col-align-middle\"><nav class=\"language-switcher\" role=\"navigation\"><h2 class=\"visuallyhidden\">Language</h2><ul aria-hidden=\"false\" class=\"dropdown-menu\" role=\"listbox\"><li class=\"lang active\" role=\"menuitem\"><!-- --><a href=\"\" title=\"Active Language English\"> en <!-- --><i class=\"icon icon-caret\"><svg class=\"icon\"><use xlink:href=\"/assets/sprites/icons.svg#ico-caret\"></use></svg></i></a><!-- --><!-- --></li><!-- --><!-- --><!-- --><!-- --><!-- --><!-- --><!-- --></ul><div class=\"lang-switcher__popup\"><ul class=\"languages-list\"><li class=\"lang active\"><div><i class=\"icon icon-check\"><svg class=\"icon\"><use xlink:href=\"/assets/sprites/icons.svg#ico-check\"></use></svg></i><!-- --> en <!-- --><!-- --></div><!-- --><!-- --><!-- --><!-- --><!-- --></li><li class=\"lang\"><!-- --><a href=\"\" title=\"Language Japanese\"> 日本語 <!-- --></a><!-- --><!-- --><!-- --></li><li class=\"lang\"><!-- --><!-- --><!-- --><a href=\"\" title=\"Language Chinese\"> 简体中文 <!-- --></a><!-- --></li><!-- --></ul></div></nav></div></div></div></div><!-- --></header><app-search><div class=\"search-page\"><div class=\"search-page__header\"><div class=\"search-page__close\"><a class=\"search-page__link\" href=\"search\"><span>Search</span><svg class=\"in_page_navigation__icon\"><use xlink:href=\"/assets/sprites/icons.svg#ico-exit\"></use></svg></a><span aria-hidden=\"true\" class=\"button search-page__close__button\">Close X</span></div><div class=\"search-page__form\"><form _lpchecked=\"1\" accept-charset=\"UTF-8\" autocomplete=\"off\" class=\"ng-untouched ng-pristine ng-valid\" novalidate=\"\"><!-- --><div class=\"search-page__submit-wrapper\"><button class=\"search-page__submit\" name=\"button\" type=\"submit\"><svg class=\"in_page_navigation__icon\"><use xlink:href=\"/assets/sprites/icons.svg#ico-search\"></use></svg></button></div></form></div></div><ul class=\"live-results\"><!-- --><!-- --><!-- --><!-- --></ul></div></app-search><!-- --><!-- --><!-- --></app-header><!-- --></div><div class=\"app-body\"><router-outlet></router-outlet><app-home><section class=\"content page__home\"><section class=\"main\"><section class=\"grid grid__home ex\"><!-- --><!-- --></section><div class=\"indexes-block\"><div class=\"indexes-block--inner\"><div class=\"indexes-block__background-image__container\"><!-- --><div class=\"indexes-block__background-filter\"></div></div><div class=\"indexes-block__content container\"><div class=\"indexes-block__modal container\"><!-- --></div><!-- --></div></div></div><section class=\"grid__featured container\"><div class=\"grid__featured--inner grid\"><!-- --></div></section><!-- --><!-- --><div class=\"filter__form\"><div class=\"filter__form--inner\"><app-interestselector><!-- --></app-interestselector></div></div><section class=\"main\"><div class=\"carousel__container bg--white\"><div class=\"carousel__inner container\"><!-- --><!-- --><!-- --><!-- --><!-- --></div></div></section><section class=\"featured__articles\"><div class=\"featured__articles--wrapper container\"><h3 class=\"featured__articles__title\">Published recently</h3><!-- --><!-- --><!-- --><div class=\"featured__articles--inner\"><!-- --></div><div class=\"featured__articles--preview\"><!-- --></div></div></section><!-- --></section></section></app-home><!-- --><!-- --><app-footer><footer class=\"footer\"><div class=\"footer__middle grid\"><div class=\"grid col col-grow-3 footer__middle_col footer__partners\"><div class=\"footer__logo text--center col\"><a href=\"/\" title=\" ← Back to the homepage\"><svg id=\"Layer_1\" style=\"enable-background: new 0 0 48 48;\" version=\"1.1\" viewbox=\"0 0 48 48\" x=\"0px\" xml:space=\"preserve\" xmlns=\"http://www.w3.org/2000/svg\" xmlns:xlink=\"http://www.w3.org/1999/xlink\" y=\"0px\"><style type=\"text/css\"> .st0 { fill: #531732; } .st1 { fill: #FFFFFF; } </style><g id=\"Page-1\"><g id=\"whiteout\"><path class=\"st0\" d=\"M23.8,48C37,48.1,47.9,37.4,48,24.2C48.1,11,37.4,0.1,24.2,0S0.1,10.6,0,23.8 c-0.1,6.4,2.4,12.6,6.9,17C11.3,45.4,17.4,47.9,23.8,48\" id=\"Shape\"></path><path class=\"st1\" d=\"M12.7,29.1c0.8-0.4,1.2-1.1,1.2-2s-0.7-2.1-2.4-2.1H9.2V32h1.3v-2.7h0.9l1.5,2.8h1.5L12.7,29.1 z M11.5,28.1h-1.1v-2h1.1c0.7,0,1.1,0.4,1.1,1.1C12.5,27.7,12.1,28.1,11.5,28.1L11.5,28.1z\" id=\"Shape_1_\"></path><path class=\"st1\" d=\"M14.8,27.1H16v3.1c0,0.7,0.4,0.9,0.9,0.9c0.7,0,1.2-0.5,1.2-1.3v-2.7h1.2V32h-1.2v-0.5 c-0.4,0.4-0.9,0.7-1.5,0.7c-1.2,0-1.9-0.8-1.9-2V27.1z\" id=\"Shape_2_\"></path><polygon class=\"st1\" id=\"Shape_3_\" points=\"17.9,18.7 14.9,18.7 14.9,16.8 18.1,16.8 18.1,15.6 13.6,15.6 13.6,22.7 14.9,22.7 14.9,19.9 17.9,19.9   \"></polygon><polygon class=\"st1\" id=\"Shape_4_\" points=\"20.7,22.7 22,22.7 22,16.8 23.9,16.8 23.9,15.6 18.8,15.6 18.8,16.8 20.7,16.8   \"></polygon><polygon class=\"st1\" id=\"Shape_5_\" points=\"31.6,19.6 34.4,19.6 34.4,18.5 31.6,18.5 31.6,16.8 34.8,16.8 34.8,15.6 30.3,15.6 30.3,22.7 34.8,22.7 34.8,21.5 31.6,21.5   \"></polygon><rect class=\"st1\" height=\"7.1\" id=\"Rectangle-path\" width=\"1.2\" x=\"35.6\" y=\"24.9\"></rect><rect class=\"st1\" height=\"7.1\" id=\"Rectangle-path_1_\" width=\"1.2\" x=\"37.9\" y=\"24.9\"></rect><path class=\"st1\" d=\"M22.3,32.3c-0.7,0-1.5-0.1-2-0.5l0.5-0.9c0.1,0,0.8,0.4,1.5,0.4c0.7,0,0.9-0.3,0.9-0.5 s-0.4-0.5-1.3-0.8c-0.5-0.1-1.3-0.5-1.3-1.5s0.8-1.6,2.1-1.6c1.2,0,1.7,0.4,1.7,0.4l-0.5,0.9c-0.4-0.3-0.8-0.4-1.3-0.4 s-0.8,0.3-0.8,0.4c0,0.4,0.5,0.5,1.1,0.7c0.8,0.3,1.5,0.5,1.5,1.6C24.3,31.5,23.6,32.3,22.3,32.3z\" id=\"Shape_6_\"></path><path class=\"st1\" d=\"M27.1,32.3c-0.7,0-1.5-0.1-2-0.5l0.5-0.9c0.1,0,0.8,0.4,1.5,0.4s0.9-0.3,0.9-0.5 s-0.4-0.5-1.3-0.8c-0.5-0.1-1.3-0.5-1.3-1.5s0.8-1.6,2.1-1.6c1.2,0,1.7,0.4,1.7,0.4l-0.5,0.9c-0.4-0.3-0.8-0.4-1.3-0.4 s-0.8,0.3-0.8,0.4c0,0.4,0.5,0.5,1.1,0.7c0.8,0.3,1.5,0.5,1.5,1.6C29.1,31.5,28.4,32.3,27.1,32.3z\" id=\"Shape_7_\"></path><path class=\"st1\" d=\"M34.8,29.7c0-1.2-0.7-2.8-2.4-2.8c-1.5,0-2.5,1.1-2.5,2.5c0,1.6,1.1,2.7,2.7,2.7 c0.8,0,1.5-0.3,2.1-0.7l-0.5-0.8c-0.5,0.4-1.1,0.5-1.6,0.5c-0.7,0-1.3-0.5-1.3-1.2h3.7L34.8,29.7z M31.1,29.1 c0-0.5,0.4-1.1,1.3-1.1c0.3,0,0.5,0.1,0.8,0.3c0.3,0.3,0.4,0.5,0.4,0.8C33.6,29.1,31.1,29.1,31.1,29.1z\" id=\"Shape_8_\"></path><path class=\"st1\" d=\"M26.7,22.9c-1.5,0-2.3-0.8-2.4-0.8l0.7-0.9c0.1,0.1,0.8,0.5,1.6,0.5c0.8,0,1.3-0.4,1.3-0.9 c0-0.5-0.4-0.8-1.7-1.2c-1.1-0.4-1.9-0.8-1.9-2c0-1.3,1.1-2.1,2.5-2.1s2.1,0.7,2.3,0.8l-0.7,0.9c-0.4-0.3-1.1-0.5-1.6-0.5 c-0.7,0-1.1,0.4-1.1,0.8c0,0.5,0.4,0.8,1.5,1.2c1.1,0.4,2,0.8,2,2.1C29.3,22,28.3,22.9,26.7,22.9z\" id=\"Shape_9_\"></path></g></g></svg></a></div><div class=\"col partners\"><nav attr.aria-label=\"Partners\" class=\"menubar\"><h2 class=\"visuallyhidden\">Partner Websites</h2><div class=\"grid navbar__partners\"><ul aria-hidden=\"false\" class=\"col nav navbar__partners--left\" role=\"menubar\"><!-- --></ul><ul aria-hidden=\"false\" class=\"col nav navbar__partners--right\" role=\"menubar\"><!-- --></ul></div></nav></div></div><div class=\"col col-grow-2 footer__middle_col footer__menu grid\"><div class=\"col footer__menu--left\"><nav attr.aria-label=\"Footer Menu\" class=\"menubar\"><h2 class=\"visuallyhidden\">Footer Menu</h2><ul aria-hidden=\"false\" class=\"nav navbar__footer-menu\" role=\"menubar\"><!-- --></ul></nav></div><div class=\"col footer__menu--right\"><nav attr.aria-label=\"Footer Menu Secondary\" class=\"menubar\"><h2 class=\"visuallyhidden\">Footer Menu Secondary </h2><ul aria-hidden=\"false\" class=\"nav navbar__footer-menu--secondary\" role=\"menubar\"><!-- --></ul></nav></div></div><div class=\"col footer__middle_col footer__social\"><h6>Follow Us</h6><!-- --></div></div><div class=\"footer__bottom grid text--center\"><nav attr.aria-label=\"Footer Bottom Menu\" class=\"col footer__bottom-nav\"><h2 class=\"visuallyhidden\">Footer Bottom Menu</h2><ul aria-hidden=\"false\" class=\"nav navbar__footer__bottom-menu grid\" role=\"menubar\"><!-- --></ul></nav><p class=\"col copyright\"></p></div><!-- --></footer></app-footer><!-- --><app-ticker><!-- --></app-ticker><!-- --></div></div><!-- --></app-standard-root><!-- --><!-- --></app-root><!-- --></app-root>\n",
      "<!-- these styles are here so they load first -->\n",
      "<style type=\"text/css\">\n",
      "    html,\n",
      "    body {\n",
      "      width: 100%;\n",
      "      height: 100%;\n",
      "      margin: 0px;\n",
      "      padding: 0px;\n",
      "    }\n",
      "\n",
      "    .app-loading {\n",
      "      position: relative;\n",
      "      display: flex;\n",
      "      flex-direction: column;\n",
      "      align-items: center;\n",
      "      justify-content: center;\n",
      "      height: 100%;\n",
      "    }\n",
      "\n",
      "    .app-loading .spinner,\n",
      "    .loading-spinner {\n",
      "      animation: rotate 2s linear infinite;\n",
      "      transform-origin: center center;\n",
      "      position: absolute;\n",
      "      top: 0;\n",
      "      bottom: 0;\n",
      "      left: 0;\n",
      "      right: 0;\n",
      "      margin: auto;\n",
      "    }\n",
      "\n",
      "    .app-loading .spinner {\n",
      "      height: 200px;\n",
      "      width: 200px;\n",
      "    }\n",
      "\n",
      "    .loading-spinner {\n",
      "      height: 100px;\n",
      "      width: 100px;\n",
      "    }\n",
      "\n",
      "    .app-loading .spinner .path,\n",
      "    .loading-spinner .path {\n",
      "      stroke-dasharray: 1, 200;\n",
      "      stroke-dashoffset: 0;\n",
      "      animation: dash 1.5s ease-in-out infinite;\n",
      "      stroke-linecap: round;\n",
      "      stroke: #ddd;\n",
      "    }\n",
      "\n",
      "    .body-loading {\n",
      "      opacity: 1;\n",
      "      display: block;\n",
      "    }\n",
      "\n",
      "    .body-loaded {\n",
      "      opacity: 1;\n",
      "      animation: fadeOut 0.5s linear 0s 1;\n",
      "    }\n",
      "\n",
      "    @keyframes fadeOut {\n",
      "      from {\n",
      "        opacity: 0;\n",
      "        display: none;\n",
      "      }\n",
      "\n",
      "      to {\n",
      "        opacity: 1;\n",
      "      }\n",
      "    }\n",
      "\n",
      "    @keyframes rotate {\n",
      "      100% {\n",
      "        transform: rotate(360deg);\n",
      "      }\n",
      "    }\n",
      "\n",
      "    @keyframes dash {\n",
      "      0% {\n",
      "        stroke-dasharray: 1, 200;\n",
      "        stroke-dashoffset: 0;\n",
      "      }\n",
      "\n",
      "      50% {\n",
      "        stroke-dasharray: 89, 200;\n",
      "        stroke-dashoffset: -35px;\n",
      "      }\n",
      "\n",
      "      100% {\n",
      "        stroke-dasharray: 89, 200;\n",
      "        stroke-dashoffset: -124px;\n",
      "      }\n",
      "    }\n",
      "\n",
      "    @keyframes mymove {\n",
      "      From {\n",
      "        bottom: -120px\n",
      "      }\n",
      "\n",
      "      to {\n",
      "        bottom: 0px;\n",
      "      }\n",
      "    }\n",
      "    label.checkbox-toggle-label {\n",
      "      padding-bottom: 0px;\n",
      "    }\n",
      "\n",
      "\n",
      "  </style>\n",
      "<!-- Tracking Pixels -->\n",
      "<noscript><img height=\"0\" src=\"//bat.bing.com/action/0?ti=5707629&amp;Ver=2\" style=\"display:none; visibility: hidden;\" width=\"0\"/></noscript>\n",
      "<noscript><img height=\"0\" src=\"//bat.bing.com/action/0?ti=5707631&amp;Ver=2\" style=\"display:none; visibility: hidden;\" width=\"0\"/></noscript>\n",
      "<noscript><img height=\"0\" src=\"//bat.bing.com/action/0?ti=5707625&amp;Ver=2\" style=\"display:none; visibility: hidden;\" width=\"0\"/></noscript>\n",
      "<noscript><img alt=\"\" height=\"1\" src=\"https://dc.ads.linkedin.com/collect/?pid=468356&amp;fmt=gif\" style=\"display:none;\" width=\"1\"/></noscript>\n",
      "<noscript><img alt=\"\" height=\"1\" src=\"https://dc.ads.linkedin.com/collect/?pid=40416&amp;fmt=gif\" style=\"display:none;\" width=\"1\"/></noscript>\n",
      "<noscript><img alt=\"\" height=\"1\" src=\"//googleads.g.doubleclick.net/pagead/viewthroughconversion/934498794/?guid=ON&amp;script=0\" style=\"border-style:none;\" width=\"1\"/></noscript>\n",
      "<noscript><img alt=\"\" height=\"1\" src=\"//googleads.g.doubleclick.net/pagead/viewthroughconversion/933973097/?guid=ON&amp;script=0\" style=\"border-style:none;\" width=\"1\"/></noscript>\n",
      "<noscript><img alt=\"\" height=\"1\" src=\"//googleads.g.doubleclick.net/pagead/viewthroughconversion/943118615/?guid=ON&amp;script=0\" style=\"border-style:none;\" width=\"1\"/></noscript>\n",
      "<script src=\"runtime-es2015.ea74ed95fef796ab4825.js\" type=\"module\"></script><script defer=\"\" nomodule=\"\" src=\"runtime-es5.ea74ed95fef796ab4825.js\"></script><script defer=\"\" nomodule=\"\" src=\"polyfills-es5.661dc9881cdc802d6d35.js\"></script><script src=\"polyfills-es2015.0c04a498d384d3938b31.js\" type=\"module\"></script><script defer=\"\" src=\"scripts.948a63a378af20f3bf11.js\"></script><script src=\"main-es2015.8436adadf7215450f328.js\" type=\"module\"></script><script defer=\"\" nomodule=\"\" src=\"main-es5.8436adadf7215450f328.js\"></script>\n",
      "<script id=\"ftseangular-state\" type=\"application/json\">{}</script></body></html>\n"
     ]
    }
   ],
   "source": [
    "print(soup)"
   ]
  },
  {
   "cell_type": "code",
   "execution_count": null,
   "id": "29e5810a",
   "metadata": {},
   "outputs": [],
   "source": []
  }
 ],
 "metadata": {
  "kernelspec": {
   "display_name": "Python 3",
   "language": "python",
   "name": "python3"
  },
  "language_info": {
   "codemirror_mode": {
    "name": "ipython",
    "version": 3
   },
   "file_extension": ".py",
   "mimetype": "text/x-python",
   "name": "python",
   "nbconvert_exporter": "python",
   "pygments_lexer": "ipython3",
   "version": "3.10.9 (tags/v3.10.9:1dd9be6, Dec  6 2022, 20:01:21) [MSC v.1934 64 bit (AMD64)]"
  },
  "vscode": {
   "interpreter": {
    "hash": "9ffac87b4cff5b6c0e5d4093ba339ecf638af9c766ccaab77fb7bee367946700"
   }
  }
 },
 "nbformat": 4,
 "nbformat_minor": 5
}
